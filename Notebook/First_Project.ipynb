{
 "cells": [
  {
   "cell_type": "markdown",
   "id": "cac990d0",
   "metadata": {},
   "source": [
    "#3"
   ]
  },
  {
   "cell_type": "code",
   "execution_count": 1,
   "id": "3fce329d",
   "metadata": {},
   "outputs": [],
   "source": [
    "import pandas as pd"
   ]
  },
  {
   "cell_type": "code",
   "execution_count": 2,
   "id": "16b28031",
   "metadata": {},
   "outputs": [],
   "source": [
    "import numpy as np\n",
    "import matplotlib.pyplot as plt \n",
    "import seaborn as sns\n",
    "from numpy import unravel_index"
   ]
  },
  {
   "cell_type": "markdown",
   "id": "e9da6c55",
   "metadata": {},
   "source": [
    "#4"
   ]
  },
  {
   "cell_type": "markdown",
   "id": "ba0ea9c0",
   "metadata": {},
   "source": [
    "###To keep from calling plt.show every time"
   ]
  },
  {
   "cell_type": "code",
   "execution_count": 3,
   "id": "62b353bd",
   "metadata": {},
   "outputs": [],
   "source": [
    "%matplotlib inline"
   ]
  },
  {
   "cell_type": "markdown",
   "id": "8b0da215",
   "metadata": {},
   "source": [
    "#5"
   ]
  },
  {
   "cell_type": "code",
   "execution_count": 4,
   "id": "c085bd42",
   "metadata": {},
   "outputs": [],
   "source": [
    "###Read in gdp Data"
   ]
  },
  {
   "cell_type": "code",
   "execution_count": 5,
   "id": "7cc7df4f",
   "metadata": {},
   "outputs": [],
   "source": [
    "gdp_df = pd.read_csv(\"../Data/gdp_percapita.csv\", nrows=6868)"
   ]
  },
  {
   "cell_type": "code",
   "execution_count": 6,
   "id": "641c400d",
   "metadata": {},
   "outputs": [],
   "source": [
    "#print((gdp_df[0:7]))"
   ]
  },
  {
   "cell_type": "markdown",
   "id": "364e7d3a",
   "metadata": {},
   "source": [
    "#6"
   ]
  },
  {
   "cell_type": "code",
   "execution_count": 7,
   "id": "65cf901f",
   "metadata": {},
   "outputs": [],
   "source": [
    "internet_df = pd.read_csv(\"../data/internet_use.csv\", nrows=4495)"
   ]
  },
  {
   "cell_type": "code",
   "execution_count": 8,
   "id": "183cf788",
   "metadata": {},
   "outputs": [
    {
     "name": "stdout",
     "output_type": "stream",
     "text": [
      "  Country or Area  Year     Value  Value Footnotes\n",
      "0     Afghanistan  2014  6.390000              NaN\n",
      "1     Afghanistan  2013  5.900000              NaN\n",
      "2     Afghanistan  2012  5.454545              NaN\n",
      "3     Afghanistan  2011  5.000000              NaN\n",
      "4     Afghanistan  2010  4.000000              NaN\n",
      "5     Afghanistan  2009  3.550000              NaN\n",
      "6     Afghanistan  2008  1.840000              NaN\n"
     ]
    }
   ],
   "source": [
    "print((internet_df[0:7]))"
   ]
  },
  {
   "cell_type": "markdown",
   "id": "6bbf2519",
   "metadata": {},
   "source": [
    "#98"
   ]
  },
  {
   "cell_type": "code",
   "execution_count": 9,
   "id": "bdd7ec69",
   "metadata": {},
   "outputs": [
    {
     "data": {
      "text/plain": [
       "(6868, 4)"
      ]
     },
     "execution_count": 9,
     "metadata": {},
     "output_type": "execute_result"
    }
   ],
   "source": [
    "gdp_df.shape"
   ]
  },
  {
   "cell_type": "code",
   "execution_count": 10,
   "id": "337a9369",
   "metadata": {},
   "outputs": [],
   "source": [
    "#internet_df.shape"
   ]
  },
  {
   "cell_type": "markdown",
   "id": "b8dc1e90",
   "metadata": {},
   "source": [
    "#6 - Repeat"
   ]
  },
  {
   "cell_type": "code",
   "execution_count": 11,
   "id": "b8cbcd19",
   "metadata": {},
   "outputs": [],
   "source": [
    "#gdp_df.dtypes"
   ]
  },
  {
   "cell_type": "code",
   "execution_count": 12,
   "id": "0cbc90f9",
   "metadata": {},
   "outputs": [],
   "source": [
    "#internet_df.dtypes"
   ]
  },
  {
   "cell_type": "markdown",
   "id": "5952aa34",
   "metadata": {},
   "source": [
    "#99"
   ]
  },
  {
   "cell_type": "code",
   "execution_count": 13,
   "id": "e313cda5",
   "metadata": {},
   "outputs": [],
   "source": [
    "#gdp_df.tail(10)"
   ]
  },
  {
   "cell_type": "code",
   "execution_count": 14,
   "id": "5ab1b4e2",
   "metadata": {},
   "outputs": [],
   "source": [
    "#internet_df.tail(10)"
   ]
  },
  {
   "cell_type": "markdown",
   "id": "cedb232c",
   "metadata": {},
   "source": [
    "#7 and 8"
   ]
  },
  {
   "cell_type": "code",
   "execution_count": 15,
   "id": "46c4b130",
   "metadata": {},
   "outputs": [],
   "source": [
    "gdpnew_df = gdp_df.rename(columns={'Country or Area': 'Country', 'Year': 'Year', 'Value': 'GDP_Per_Capita'})"
   ]
  },
  {
   "cell_type": "code",
   "execution_count": 16,
   "id": "dd778c0a",
   "metadata": {},
   "outputs": [],
   "source": [
    "#inplace=True allows for reasigning ... otherwise drop('ldfkj',1)"
   ]
  },
  {
   "cell_type": "code",
   "execution_count": 17,
   "id": "7ab7ccfa",
   "metadata": {},
   "outputs": [],
   "source": [
    "gdpnew_df.drop('Value Footnotes', axis=1, inplace=True)"
   ]
  },
  {
   "cell_type": "code",
   "execution_count": 18,
   "id": "0565ed2a",
   "metadata": {},
   "outputs": [
    {
     "name": "stdout",
     "output_type": "stream",
     "text": [
      "       Country  Year  GDP_Per_Capita\n",
      "0  Afghanistan  2019     2065.036398\n",
      "1  Afghanistan  2018     2033.779002\n",
      "2  Afghanistan  2017     2058.383832\n",
      "3  Afghanistan  2016     2057.062164\n",
      "4  Afghanistan  2015     2068.265904\n",
      "5  Afghanistan  2014     2102.385234\n",
      "6  Afghanistan  2013     2116.465454\n"
     ]
    }
   ],
   "source": [
    "print(gdpnew_df[0:7])"
   ]
  },
  {
   "cell_type": "markdown",
   "id": "66e748cf",
   "metadata": {},
   "source": [
    "#7 and 9"
   ]
  },
  {
   "cell_type": "code",
   "execution_count": 19,
   "id": "6512d889",
   "metadata": {},
   "outputs": [],
   "source": [
    "internetnew_df = internet_df.rename(columns={'Country or Area': 'Country', 'Year': 'Year', 'Value': 'Internet_Users_Pct'})"
   ]
  },
  {
   "cell_type": "code",
   "execution_count": 20,
   "id": "e2881757",
   "metadata": {},
   "outputs": [],
   "source": [
    "internetnew_df.drop('Value Footnotes', axis=1, inplace=True)"
   ]
  },
  {
   "cell_type": "code",
   "execution_count": 21,
   "id": "1abdd99d",
   "metadata": {},
   "outputs": [
    {
     "name": "stdout",
     "output_type": "stream",
     "text": [
      "       Country  Year  Internet_Users_Pct\n",
      "0  Afghanistan  2014            6.390000\n",
      "1  Afghanistan  2013            5.900000\n",
      "2  Afghanistan  2012            5.454545\n",
      "3  Afghanistan  2011            5.000000\n",
      "4  Afghanistan  2010            4.000000\n",
      "5  Afghanistan  2009            3.550000\n",
      "6  Afghanistan  2008            1.840000\n"
     ]
    }
   ],
   "source": [
    "print(internetnew_df[0:7])"
   ]
  },
  {
   "cell_type": "markdown",
   "id": "5ee205c8",
   "metadata": {},
   "source": [
    "#10"
   ]
  },
  {
   "cell_type": "code",
   "execution_count": 22,
   "id": "5d27b18d",
   "metadata": {},
   "outputs": [],
   "source": [
    "gdp_and_internet_use = pd.merge(gdpnew_df, internetnew_df, on=['Country', 'Year'], how='left')"
   ]
  },
  {
   "cell_type": "code",
   "execution_count": 23,
   "id": "83d62343",
   "metadata": {},
   "outputs": [
    {
     "data": {
      "text/plain": [
       "Country                object\n",
       "Year                    int64\n",
       "GDP_Per_Capita        float64\n",
       "Internet_Users_Pct    float64\n",
       "dtype: object"
      ]
     },
     "execution_count": 23,
     "metadata": {},
     "output_type": "execute_result"
    }
   ],
   "source": [
    "gdp_and_internet_use.dtypes"
   ]
  },
  {
   "cell_type": "code",
   "execution_count": 24,
   "id": "176afd4c",
   "metadata": {},
   "outputs": [
    {
     "data": {
      "text/plain": [
       "(6868, 4)"
      ]
     },
     "execution_count": 24,
     "metadata": {},
     "output_type": "execute_result"
    }
   ],
   "source": [
    "gdp_and_internet_use.shape"
   ]
  },
  {
   "cell_type": "markdown",
   "id": "67d33ab5",
   "metadata": {},
   "source": [
    "#11"
   ]
  },
  {
   "cell_type": "code",
   "execution_count": 25,
   "id": "9ba14f49",
   "metadata": {},
   "outputs": [
    {
     "name": "stdout",
     "output_type": "stream",
     "text": [
      "       Country  Year  GDP_Per_Capita  Internet_Users_Pct\n",
      "0  Afghanistan  2019     2065.036398                 NaN\n",
      "1  Afghanistan  2018     2033.779002                 NaN\n",
      "2  Afghanistan  2017     2058.383832                 NaN\n",
      "3  Afghanistan  2016     2057.062164                 NaN\n",
      "4  Afghanistan  2015     2068.265904                 NaN\n"
     ]
    }
   ],
   "source": [
    "print((gdp_and_internet_use[0:5]))"
   ]
  },
  {
   "cell_type": "markdown",
   "id": "ce24e643",
   "metadata": {},
   "source": [
    "#12"
   ]
  },
  {
   "cell_type": "code",
   "execution_count": 26,
   "id": "e060c5b2",
   "metadata": {},
   "outputs": [
    {
     "data": {
      "text/html": [
       "<div>\n",
       "<style scoped>\n",
       "    .dataframe tbody tr th:only-of-type {\n",
       "        vertical-align: middle;\n",
       "    }\n",
       "\n",
       "    .dataframe tbody tr th {\n",
       "        vertical-align: top;\n",
       "    }\n",
       "\n",
       "    .dataframe thead th {\n",
       "        text-align: right;\n",
       "    }\n",
       "</style>\n",
       "<table border=\"1\" class=\"dataframe\">\n",
       "  <thead>\n",
       "    <tr style=\"text-align: right;\">\n",
       "      <th></th>\n",
       "      <th>Country</th>\n",
       "      <th>Year</th>\n",
       "      <th>GDP_Per_Capita</th>\n",
       "      <th>Internet_Users_Pct</th>\n",
       "    </tr>\n",
       "  </thead>\n",
       "  <tbody>\n",
       "    <tr>\n",
       "      <th>6863</th>\n",
       "      <td>Zimbabwe</td>\n",
       "      <td>1994</td>\n",
       "      <td>3263.934978</td>\n",
       "      <td>0.001739</td>\n",
       "    </tr>\n",
       "    <tr>\n",
       "      <th>6864</th>\n",
       "      <td>Zimbabwe</td>\n",
       "      <td>1993</td>\n",
       "      <td>3033.504852</td>\n",
       "      <td>NaN</td>\n",
       "    </tr>\n",
       "    <tr>\n",
       "      <th>6865</th>\n",
       "      <td>Zimbabwe</td>\n",
       "      <td>1992</td>\n",
       "      <td>3054.889178</td>\n",
       "      <td>NaN</td>\n",
       "    </tr>\n",
       "    <tr>\n",
       "      <th>6866</th>\n",
       "      <td>Zimbabwe</td>\n",
       "      <td>1991</td>\n",
       "      <td>3426.598094</td>\n",
       "      <td>NaN</td>\n",
       "    </tr>\n",
       "    <tr>\n",
       "      <th>6867</th>\n",
       "      <td>Zimbabwe</td>\n",
       "      <td>1990</td>\n",
       "      <td>3324.348171</td>\n",
       "      <td>0.000000</td>\n",
       "    </tr>\n",
       "  </tbody>\n",
       "</table>\n",
       "</div>"
      ],
      "text/plain": [
       "       Country  Year  GDP_Per_Capita  Internet_Users_Pct\n",
       "6863  Zimbabwe  1994     3263.934978            0.001739\n",
       "6864  Zimbabwe  1993     3033.504852                 NaN\n",
       "6865  Zimbabwe  1992     3054.889178                 NaN\n",
       "6866  Zimbabwe  1991     3426.598094                 NaN\n",
       "6867  Zimbabwe  1990     3324.348171            0.000000"
      ]
     },
     "execution_count": 26,
     "metadata": {},
     "output_type": "execute_result"
    }
   ],
   "source": [
    "gdp_and_internet_use.tail(5)"
   ]
  },
  {
   "cell_type": "code",
   "execution_count": 27,
   "id": "b5f12c03",
   "metadata": {},
   "outputs": [],
   "source": [
    "gdp_and_internet_use.sort_values(by = ['Country', 'Year'], axis=0, ascending=[True, True], inplace=True,\n",
    "               kind='quicksort', na_position='first', ignore_index=True, key=None)"
   ]
  },
  {
   "cell_type": "code",
   "execution_count": 28,
   "id": "5a8b805a",
   "metadata": {},
   "outputs": [
    {
     "name": "stdout",
     "output_type": "stream",
     "text": [
      "       Country  Year  GDP_Per_Capita  Internet_Users_Pct\n",
      "0  Afghanistan  2002     1189.784878            0.004561\n",
      "1  Afghanistan  2003     1235.810063            0.087891\n",
      "2  Afghanistan  2004     1200.278256            0.105809\n",
      "3  Afghanistan  2005     1286.793508            1.224148\n",
      "4  Afghanistan  2006     1315.789565            2.107124\n"
     ]
    }
   ],
   "source": [
    "print((gdp_and_internet_use[0:5]))"
   ]
  },
  {
   "cell_type": "code",
   "execution_count": 29,
   "id": "f6567145",
   "metadata": {},
   "outputs": [
    {
     "data": {
      "text/html": [
       "<div>\n",
       "<style scoped>\n",
       "    .dataframe tbody tr th:only-of-type {\n",
       "        vertical-align: middle;\n",
       "    }\n",
       "\n",
       "    .dataframe tbody tr th {\n",
       "        vertical-align: top;\n",
       "    }\n",
       "\n",
       "    .dataframe thead th {\n",
       "        text-align: right;\n",
       "    }\n",
       "</style>\n",
       "<table border=\"1\" class=\"dataframe\">\n",
       "  <thead>\n",
       "    <tr style=\"text-align: right;\">\n",
       "      <th></th>\n",
       "      <th>Country</th>\n",
       "      <th>Year</th>\n",
       "      <th>GDP_Per_Capita</th>\n",
       "      <th>Internet_Users_Pct</th>\n",
       "    </tr>\n",
       "  </thead>\n",
       "  <tbody>\n",
       "    <tr>\n",
       "      <th>6863</th>\n",
       "      <td>Zimbabwe</td>\n",
       "      <td>2015</td>\n",
       "      <td>2958.209004</td>\n",
       "      <td>NaN</td>\n",
       "    </tr>\n",
       "    <tr>\n",
       "      <th>6864</th>\n",
       "      <td>Zimbabwe</td>\n",
       "      <td>2016</td>\n",
       "      <td>2934.733650</td>\n",
       "      <td>NaN</td>\n",
       "    </tr>\n",
       "    <tr>\n",
       "      <th>6865</th>\n",
       "      <td>Zimbabwe</td>\n",
       "      <td>2017</td>\n",
       "      <td>3028.245976</td>\n",
       "      <td>NaN</td>\n",
       "    </tr>\n",
       "    <tr>\n",
       "      <th>6866</th>\n",
       "      <td>Zimbabwe</td>\n",
       "      <td>2018</td>\n",
       "      <td>3130.029501</td>\n",
       "      <td>NaN</td>\n",
       "    </tr>\n",
       "    <tr>\n",
       "      <th>6867</th>\n",
       "      <td>Zimbabwe</td>\n",
       "      <td>2019</td>\n",
       "      <td>2835.948532</td>\n",
       "      <td>NaN</td>\n",
       "    </tr>\n",
       "  </tbody>\n",
       "</table>\n",
       "</div>"
      ],
      "text/plain": [
       "       Country  Year  GDP_Per_Capita  Internet_Users_Pct\n",
       "6863  Zimbabwe  2015     2958.209004                 NaN\n",
       "6864  Zimbabwe  2016     2934.733650                 NaN\n",
       "6865  Zimbabwe  2017     3028.245976                 NaN\n",
       "6866  Zimbabwe  2018     3130.029501                 NaN\n",
       "6867  Zimbabwe  2019     2835.948532                 NaN"
      ]
     },
     "execution_count": 29,
     "metadata": {},
     "output_type": "execute_result"
    }
   ],
   "source": [
    "gdp_and_internet_use.tail(5)"
   ]
  },
  {
   "cell_type": "markdown",
   "id": "ac463a3c",
   "metadata": {},
   "source": [
    "#13"
   ]
  },
  {
   "cell_type": "code",
   "execution_count": 30,
   "id": "f4c31e35",
   "metadata": {},
   "outputs": [],
   "source": [
    "year_subset = gdp_and_internet_use[(gdp_and_internet_use[\"Year\"]==2004) | (gdp_and_internet_use[\"Year\"]==2009) | (gdp_and_internet_use[\"Year\"]==2014)]"
   ]
  },
  {
   "cell_type": "code",
   "execution_count": 31,
   "id": "4d91997d",
   "metadata": {},
   "outputs": [
    {
     "data": {
      "text/html": [
       "<div>\n",
       "<style scoped>\n",
       "    .dataframe tbody tr th:only-of-type {\n",
       "        vertical-align: middle;\n",
       "    }\n",
       "\n",
       "    .dataframe tbody tr th {\n",
       "        vertical-align: top;\n",
       "    }\n",
       "\n",
       "    .dataframe thead th {\n",
       "        text-align: right;\n",
       "    }\n",
       "</style>\n",
       "<table border=\"1\" class=\"dataframe\">\n",
       "  <thead>\n",
       "    <tr style=\"text-align: right;\">\n",
       "      <th></th>\n",
       "      <th>Country</th>\n",
       "      <th>Year</th>\n",
       "      <th>GDP_Per_Capita</th>\n",
       "      <th>Internet_Users_Pct</th>\n",
       "    </tr>\n",
       "  </thead>\n",
       "  <tbody>\n",
       "    <tr>\n",
       "      <th>2</th>\n",
       "      <td>Afghanistan</td>\n",
       "      <td>2004</td>\n",
       "      <td>1200.278256</td>\n",
       "      <td>0.105809</td>\n",
       "    </tr>\n",
       "    <tr>\n",
       "      <th>7</th>\n",
       "      <td>Afghanistan</td>\n",
       "      <td>2009</td>\n",
       "      <td>1758.904043</td>\n",
       "      <td>3.550000</td>\n",
       "    </tr>\n",
       "    <tr>\n",
       "      <th>12</th>\n",
       "      <td>Afghanistan</td>\n",
       "      <td>2014</td>\n",
       "      <td>2102.385234</td>\n",
       "      <td>6.390000</td>\n",
       "    </tr>\n",
       "    <tr>\n",
       "      <th>32</th>\n",
       "      <td>Albania</td>\n",
       "      <td>2004</td>\n",
       "      <td>7604.838002</td>\n",
       "      <td>2.420388</td>\n",
       "    </tr>\n",
       "    <tr>\n",
       "      <th>37</th>\n",
       "      <td>Albania</td>\n",
       "      <td>2009</td>\n",
       "      <td>10346.864199</td>\n",
       "      <td>41.200000</td>\n",
       "    </tr>\n",
       "  </tbody>\n",
       "</table>\n",
       "</div>"
      ],
      "text/plain": [
       "        Country  Year  GDP_Per_Capita  Internet_Users_Pct\n",
       "2   Afghanistan  2004     1200.278256            0.105809\n",
       "7   Afghanistan  2009     1758.904043            3.550000\n",
       "12  Afghanistan  2014     2102.385234            6.390000\n",
       "32      Albania  2004     7604.838002            2.420388\n",
       "37      Albania  2009    10346.864199           41.200000"
      ]
     },
     "execution_count": 31,
     "metadata": {},
     "output_type": "execute_result"
    }
   ],
   "source": [
    "year_subset.head(5)"
   ]
  },
  {
   "cell_type": "markdown",
   "id": "df995b61",
   "metadata": {},
   "source": [
    "#14"
   ]
  },
  {
   "cell_type": "code",
   "execution_count": 32,
   "id": "57a37f98",
   "metadata": {},
   "outputs": [],
   "source": [
    "gdp_web_2004 = year_subset[(year_subset[\"Year\"]==2004)]"
   ]
  },
  {
   "cell_type": "code",
   "execution_count": 33,
   "id": "8e0137e8",
   "metadata": {},
   "outputs": [
    {
     "data": {
      "text/html": [
       "<div>\n",
       "<style scoped>\n",
       "    .dataframe tbody tr th:only-of-type {\n",
       "        vertical-align: middle;\n",
       "    }\n",
       "\n",
       "    .dataframe tbody tr th {\n",
       "        vertical-align: top;\n",
       "    }\n",
       "\n",
       "    .dataframe thead th {\n",
       "        text-align: right;\n",
       "    }\n",
       "</style>\n",
       "<table border=\"1\" class=\"dataframe\">\n",
       "  <thead>\n",
       "    <tr style=\"text-align: right;\">\n",
       "      <th></th>\n",
       "      <th>Country</th>\n",
       "      <th>Year</th>\n",
       "      <th>GDP_Per_Capita</th>\n",
       "      <th>Internet_Users_Pct</th>\n",
       "    </tr>\n",
       "  </thead>\n",
       "  <tbody>\n",
       "    <tr>\n",
       "      <th>2</th>\n",
       "      <td>Afghanistan</td>\n",
       "      <td>2004</td>\n",
       "      <td>1200.278256</td>\n",
       "      <td>0.105809</td>\n",
       "    </tr>\n",
       "    <tr>\n",
       "      <th>32</th>\n",
       "      <td>Albania</td>\n",
       "      <td>2004</td>\n",
       "      <td>7604.838002</td>\n",
       "      <td>2.420388</td>\n",
       "    </tr>\n",
       "    <tr>\n",
       "      <th>62</th>\n",
       "      <td>Algeria</td>\n",
       "      <td>2004</td>\n",
       "      <td>10058.435939</td>\n",
       "      <td>4.634475</td>\n",
       "    </tr>\n",
       "    <tr>\n",
       "      <th>92</th>\n",
       "      <td>Angola</td>\n",
       "      <td>2004</td>\n",
       "      <td>5593.241537</td>\n",
       "      <td>0.464815</td>\n",
       "    </tr>\n",
       "    <tr>\n",
       "      <th>122</th>\n",
       "      <td>Antigua and Barbuda</td>\n",
       "      <td>2004</td>\n",
       "      <td>18745.681534</td>\n",
       "      <td>24.266544</td>\n",
       "    </tr>\n",
       "  </tbody>\n",
       "</table>\n",
       "</div>"
      ],
      "text/plain": [
       "                 Country  Year  GDP_Per_Capita  Internet_Users_Pct\n",
       "2            Afghanistan  2004     1200.278256            0.105809\n",
       "32               Albania  2004     7604.838002            2.420388\n",
       "62               Algeria  2004    10058.435939            4.634475\n",
       "92                Angola  2004     5593.241537            0.464815\n",
       "122  Antigua and Barbuda  2004    18745.681534           24.266544"
      ]
     },
     "execution_count": 33,
     "metadata": {},
     "output_type": "execute_result"
    }
   ],
   "source": [
    "gdp_web_2004.head(5)"
   ]
  },
  {
   "cell_type": "code",
   "execution_count": 34,
   "id": "0e93035d",
   "metadata": {},
   "outputs": [],
   "source": [
    "gdp_web_2009 = year_subset[(year_subset[\"Year\"]==2009)]"
   ]
  },
  {
   "cell_type": "code",
   "execution_count": 35,
   "id": "2b8cc0e8",
   "metadata": {},
   "outputs": [
    {
     "data": {
      "text/html": [
       "<div>\n",
       "<style scoped>\n",
       "    .dataframe tbody tr th:only-of-type {\n",
       "        vertical-align: middle;\n",
       "    }\n",
       "\n",
       "    .dataframe tbody tr th {\n",
       "        vertical-align: top;\n",
       "    }\n",
       "\n",
       "    .dataframe thead th {\n",
       "        text-align: right;\n",
       "    }\n",
       "</style>\n",
       "<table border=\"1\" class=\"dataframe\">\n",
       "  <thead>\n",
       "    <tr style=\"text-align: right;\">\n",
       "      <th></th>\n",
       "      <th>Country</th>\n",
       "      <th>Year</th>\n",
       "      <th>GDP_Per_Capita</th>\n",
       "      <th>Internet_Users_Pct</th>\n",
       "    </tr>\n",
       "  </thead>\n",
       "  <tbody>\n",
       "    <tr>\n",
       "      <th>7</th>\n",
       "      <td>Afghanistan</td>\n",
       "      <td>2009</td>\n",
       "      <td>1758.904043</td>\n",
       "      <td>3.55</td>\n",
       "    </tr>\n",
       "    <tr>\n",
       "      <th>37</th>\n",
       "      <td>Albania</td>\n",
       "      <td>2009</td>\n",
       "      <td>10346.864199</td>\n",
       "      <td>41.20</td>\n",
       "    </tr>\n",
       "    <tr>\n",
       "      <th>67</th>\n",
       "      <td>Algeria</td>\n",
       "      <td>2009</td>\n",
       "      <td>10782.361398</td>\n",
       "      <td>11.23</td>\n",
       "    </tr>\n",
       "    <tr>\n",
       "      <th>97</th>\n",
       "      <td>Angola</td>\n",
       "      <td>2009</td>\n",
       "      <td>7643.493749</td>\n",
       "      <td>6.00</td>\n",
       "    </tr>\n",
       "    <tr>\n",
       "      <th>127</th>\n",
       "      <td>Antigua and Barbuda</td>\n",
       "      <td>2009</td>\n",
       "      <td>20046.839017</td>\n",
       "      <td>42.00</td>\n",
       "    </tr>\n",
       "  </tbody>\n",
       "</table>\n",
       "</div>"
      ],
      "text/plain": [
       "                 Country  Year  GDP_Per_Capita  Internet_Users_Pct\n",
       "7            Afghanistan  2009     1758.904043                3.55\n",
       "37               Albania  2009    10346.864199               41.20\n",
       "67               Algeria  2009    10782.361398               11.23\n",
       "97                Angola  2009     7643.493749                6.00\n",
       "127  Antigua and Barbuda  2009    20046.839017               42.00"
      ]
     },
     "execution_count": 35,
     "metadata": {},
     "output_type": "execute_result"
    }
   ],
   "source": [
    "gdp_web_2009.head(5)"
   ]
  },
  {
   "cell_type": "code",
   "execution_count": 36,
   "id": "254ecf0f",
   "metadata": {},
   "outputs": [],
   "source": [
    "gdp_web_2014 = year_subset[(year_subset[\"Year\"]==2014)]"
   ]
  },
  {
   "cell_type": "code",
   "execution_count": 37,
   "id": "e637b2a1",
   "metadata": {},
   "outputs": [
    {
     "data": {
      "text/html": [
       "<div>\n",
       "<style scoped>\n",
       "    .dataframe tbody tr th:only-of-type {\n",
       "        vertical-align: middle;\n",
       "    }\n",
       "\n",
       "    .dataframe tbody tr th {\n",
       "        vertical-align: top;\n",
       "    }\n",
       "\n",
       "    .dataframe thead th {\n",
       "        text-align: right;\n",
       "    }\n",
       "</style>\n",
       "<table border=\"1\" class=\"dataframe\">\n",
       "  <thead>\n",
       "    <tr style=\"text-align: right;\">\n",
       "      <th></th>\n",
       "      <th>Country</th>\n",
       "      <th>Year</th>\n",
       "      <th>GDP_Per_Capita</th>\n",
       "      <th>Internet_Users_Pct</th>\n",
       "    </tr>\n",
       "  </thead>\n",
       "  <tbody>\n",
       "    <tr>\n",
       "      <th>12</th>\n",
       "      <td>Afghanistan</td>\n",
       "      <td>2014</td>\n",
       "      <td>2102.385234</td>\n",
       "      <td>6.39</td>\n",
       "    </tr>\n",
       "    <tr>\n",
       "      <th>42</th>\n",
       "      <td>Albania</td>\n",
       "      <td>2014</td>\n",
       "      <td>11623.866679</td>\n",
       "      <td>60.10</td>\n",
       "    </tr>\n",
       "    <tr>\n",
       "      <th>72</th>\n",
       "      <td>Algeria</td>\n",
       "      <td>2014</td>\n",
       "      <td>11512.705405</td>\n",
       "      <td>18.09</td>\n",
       "    </tr>\n",
       "    <tr>\n",
       "      <th>102</th>\n",
       "      <td>Angola</td>\n",
       "      <td>2014</td>\n",
       "      <td>8239.828837</td>\n",
       "      <td>21.26</td>\n",
       "    </tr>\n",
       "    <tr>\n",
       "      <th>132</th>\n",
       "      <td>Antigua and Barbuda</td>\n",
       "      <td>2014</td>\n",
       "      <td>18104.241470</td>\n",
       "      <td>64.00</td>\n",
       "    </tr>\n",
       "  </tbody>\n",
       "</table>\n",
       "</div>"
      ],
      "text/plain": [
       "                 Country  Year  GDP_Per_Capita  Internet_Users_Pct\n",
       "12           Afghanistan  2014     2102.385234                6.39\n",
       "42               Albania  2014    11623.866679               60.10\n",
       "72               Algeria  2014    11512.705405               18.09\n",
       "102               Angola  2014     8239.828837               21.26\n",
       "132  Antigua and Barbuda  2014    18104.241470               64.00"
      ]
     },
     "execution_count": 37,
     "metadata": {},
     "output_type": "execute_result"
    }
   ],
   "source": [
    "gdp_web_2014.head(5)"
   ]
  },
  {
   "cell_type": "markdown",
   "id": "fbf5a861",
   "metadata": {},
   "source": [
    "#15"
   ]
  },
  {
   "cell_type": "code",
   "execution_count": 38,
   "id": "9bad0e25",
   "metadata": {},
   "outputs": [],
   "source": [
    "#make an array to find use max"
   ]
  },
  {
   "cell_type": "code",
   "execution_count": 39,
   "id": "e79cf670",
   "metadata": {},
   "outputs": [],
   "source": [
    "gdp_web_2014a = np.array(gdp_web_2014)"
   ]
  },
  {
   "cell_type": "code",
   "execution_count": 40,
   "id": "67b98062",
   "metadata": {},
   "outputs": [],
   "source": [
    "max_pct = np.nanmax(gdp_web_2014a[:,3])"
   ]
  },
  {
   "cell_type": "code",
   "execution_count": 41,
   "id": "9edaf6e5",
   "metadata": {},
   "outputs": [
    {
     "name": "stdout",
     "output_type": "stream",
     "text": [
      "98.16\n"
     ]
    }
   ],
   "source": [
    "print(max_pct)"
   ]
  },
  {
   "cell_type": "code",
   "execution_count": 42,
   "id": "faff3c95",
   "metadata": {},
   "outputs": [
    {
     "data": {
      "text/plain": [
       "94"
      ]
     },
     "execution_count": 42,
     "metadata": {},
     "output_type": "execute_result"
    }
   ],
   "source": [
    "np.argmax(gdp_web_2014a[:,3])"
   ]
  },
  {
   "cell_type": "code",
   "execution_count": 47,
   "id": "014d3956",
   "metadata": {},
   "outputs": [
    {
     "data": {
      "text/plain": [
       "array([['Iceland', 2014, 49652.1495003908, 98.16]], dtype=object)"
      ]
     },
     "execution_count": 47,
     "metadata": {},
     "output_type": "execute_result"
    }
   ],
   "source": [
    "gdp_web_2014a[94:95,:]"
   ]
  },
  {
   "cell_type": "code",
   "execution_count": null,
   "id": "75af1ee9",
   "metadata": {},
   "outputs": [],
   "source": [
    "tmp = max(list1)\n",
    "index = list1.index(tmp)\n",
    "my_max_ind = data['x1'].idxmax() "
   ]
  }
 ],
 "metadata": {
  "kernelspec": {
   "display_name": "Python 3 (ipykernel)",
   "language": "python",
   "name": "python3"
  },
  "language_info": {
   "codemirror_mode": {
    "name": "ipython",
    "version": 3
   },
   "file_extension": ".py",
   "mimetype": "text/x-python",
   "name": "python",
   "nbconvert_exporter": "python",
   "pygments_lexer": "ipython3",
   "version": "3.9.7"
  }
 },
 "nbformat": 4,
 "nbformat_minor": 5
}
