{
 "cells": [
  {
   "cell_type": "markdown",
   "id": "cac990d0",
   "metadata": {},
   "source": [
    "#3"
   ]
  },
  {
   "cell_type": "code",
   "execution_count": 105,
   "id": "16b28031",
   "metadata": {},
   "outputs": [],
   "source": [
    "import pandas as pd\n",
    "import numpy as np\n",
    "import matplotlib.pyplot as plt \n",
    "import seaborn as sns\n",
    "from numpy import unravel_index"
   ]
  },
  {
   "cell_type": "markdown",
   "id": "e9da6c55",
   "metadata": {},
   "source": [
    "#4"
   ]
  },
  {
   "cell_type": "markdown",
   "id": "ba0ea9c0",
   "metadata": {},
   "source": [
    "###To keep from calling plt.show every time"
   ]
  },
  {
   "cell_type": "code",
   "execution_count": 3,
   "id": "62b353bd",
   "metadata": {},
   "outputs": [],
   "source": [
    "%matplotlib inline"
   ]
  },
  {
   "cell_type": "markdown",
   "id": "8b0da215",
   "metadata": {},
   "source": [
    "#5"
   ]
  },
  {
   "cell_type": "code",
   "execution_count": 4,
   "id": "c085bd42",
   "metadata": {},
   "outputs": [],
   "source": [
    "###Read in gdp Data"
   ]
  },
  {
   "cell_type": "code",
   "execution_count": 5,
   "id": "7cc7df4f",
   "metadata": {},
   "outputs": [],
   "source": [
    "gdp_df = pd.read_csv(\"../Data/gdp_percapita.csv\", nrows=6868)"
   ]
  },
  {
   "cell_type": "code",
   "execution_count": 6,
   "id": "641c400d",
   "metadata": {},
   "outputs": [],
   "source": [
    "#print((gdp_df[0:7]))"
   ]
  },
  {
   "cell_type": "markdown",
   "id": "364e7d3a",
   "metadata": {},
   "source": [
    "#6"
   ]
  },
  {
   "cell_type": "code",
   "execution_count": 7,
   "id": "65cf901f",
   "metadata": {},
   "outputs": [],
   "source": [
    "internet_df = pd.read_csv(\"../data/internet_use.csv\", nrows=4495)"
   ]
  },
  {
   "cell_type": "code",
   "execution_count": 8,
   "id": "183cf788",
   "metadata": {},
   "outputs": [
    {
     "name": "stdout",
     "output_type": "stream",
     "text": [
      "  Country or Area  Year     Value  Value Footnotes\n",
      "0     Afghanistan  2014  6.390000              NaN\n",
      "1     Afghanistan  2013  5.900000              NaN\n",
      "2     Afghanistan  2012  5.454545              NaN\n",
      "3     Afghanistan  2011  5.000000              NaN\n",
      "4     Afghanistan  2010  4.000000              NaN\n",
      "5     Afghanistan  2009  3.550000              NaN\n",
      "6     Afghanistan  2008  1.840000              NaN\n"
     ]
    }
   ],
   "source": [
    "print((internet_df[0:7]))"
   ]
  },
  {
   "cell_type": "markdown",
   "id": "6bbf2519",
   "metadata": {},
   "source": [
    "#98"
   ]
  },
  {
   "cell_type": "code",
   "execution_count": 9,
   "id": "bdd7ec69",
   "metadata": {},
   "outputs": [
    {
     "data": {
      "text/plain": [
       "(6868, 4)"
      ]
     },
     "execution_count": 9,
     "metadata": {},
     "output_type": "execute_result"
    }
   ],
   "source": [
    "gdp_df.shape"
   ]
  },
  {
   "cell_type": "code",
   "execution_count": 10,
   "id": "337a9369",
   "metadata": {},
   "outputs": [],
   "source": [
    "#internet_df.shape"
   ]
  },
  {
   "cell_type": "markdown",
   "id": "b8dc1e90",
   "metadata": {},
   "source": [
    "#6 - Repeat"
   ]
  },
  {
   "cell_type": "code",
   "execution_count": 11,
   "id": "b8cbcd19",
   "metadata": {},
   "outputs": [],
   "source": [
    "#gdp_df.dtypes"
   ]
  },
  {
   "cell_type": "code",
   "execution_count": 12,
   "id": "0cbc90f9",
   "metadata": {},
   "outputs": [],
   "source": [
    "#internet_df.dtypes"
   ]
  },
  {
   "cell_type": "markdown",
   "id": "5952aa34",
   "metadata": {},
   "source": [
    "#99"
   ]
  },
  {
   "cell_type": "code",
   "execution_count": 13,
   "id": "e313cda5",
   "metadata": {},
   "outputs": [],
   "source": [
    "#gdp_df.tail(10)"
   ]
  },
  {
   "cell_type": "code",
   "execution_count": 14,
   "id": "5ab1b4e2",
   "metadata": {},
   "outputs": [],
   "source": [
    "#internet_df.tail(10)"
   ]
  },
  {
   "cell_type": "markdown",
   "id": "02b4c990",
   "metadata": {},
   "source": [
    "#7 and 8"
   ]
  },
  {
   "cell_type": "code",
   "execution_count": 15,
   "id": "be105bd1",
   "metadata": {},
   "outputs": [],
   "source": [
    "gdpnew_df = gdp_df.rename(columns={'Country or Area': 'Country', 'Year': 'Year', 'Value': 'GDP_Per_Capita'})"
   ]
  },
  {
   "cell_type": "code",
   "execution_count": 16,
   "id": "d0e7cabc",
   "metadata": {},
   "outputs": [],
   "source": [
    "#inplace=True allows for reasigning ... otherwise drop('ldfkj',1)"
   ]
  },
  {
   "cell_type": "code",
   "execution_count": 17,
   "id": "ed7ebada",
   "metadata": {},
   "outputs": [],
   "source": [
    "gdpnew_df.drop('Value Footnotes', axis=1, inplace=True)"
   ]
  },
  {
   "cell_type": "code",
   "execution_count": 18,
   "id": "dc875419",
   "metadata": {},
   "outputs": [
    {
     "name": "stdout",
     "output_type": "stream",
     "text": [
      "       Country  Year  GDP_Per_Capita\n",
      "0  Afghanistan  2019     2065.036398\n",
      "1  Afghanistan  2018     2033.779002\n",
      "2  Afghanistan  2017     2058.383832\n",
      "3  Afghanistan  2016     2057.062164\n",
      "4  Afghanistan  2015     2068.265904\n",
      "5  Afghanistan  2014     2102.385234\n",
      "6  Afghanistan  2013     2116.465454\n"
     ]
    }
   ],
   "source": [
    "print(gdpnew_df[0:7])"
   ]
  },
  {
   "cell_type": "markdown",
   "id": "b9691447",
   "metadata": {},
   "source": [
    "#7 and 9"
   ]
  },
  {
   "cell_type": "code",
   "execution_count": 19,
   "id": "97a4cc80",
   "metadata": {},
   "outputs": [],
   "source": [
    "internetnew_df = internet_df.rename(columns={'Country or Area': 'Country', 'Year': 'Year', 'Value': 'Internet_Users_Pct'})"
   ]
  },
  {
   "cell_type": "code",
   "execution_count": 20,
   "id": "caeb5c2b",
   "metadata": {},
   "outputs": [],
   "source": [
    "internetnew_df.drop('Value Footnotes', axis=1, inplace=True)"
   ]
  },
  {
   "cell_type": "code",
   "execution_count": 21,
   "id": "ac1bb0cd",
   "metadata": {},
   "outputs": [
    {
     "name": "stdout",
     "output_type": "stream",
     "text": [
      "       Country  Year  Internet_Users_Pct\n",
      "0  Afghanistan  2014            6.390000\n",
      "1  Afghanistan  2013            5.900000\n",
      "2  Afghanistan  2012            5.454545\n",
      "3  Afghanistan  2011            5.000000\n",
      "4  Afghanistan  2010            4.000000\n",
      "5  Afghanistan  2009            3.550000\n",
      "6  Afghanistan  2008            1.840000\n"
     ]
    }
   ],
   "source": [
    "print(internetnew_df[0:7])"
   ]
  },
  {
   "cell_type": "markdown",
   "id": "4ab6ff22",
   "metadata": {},
   "source": [
    "#10"
   ]
  },
  {
   "cell_type": "code",
   "execution_count": 22,
   "id": "2c4bd6e4",
   "metadata": {},
   "outputs": [],
   "source": [
    "gdp_and_internet_use = pd.merge(gdpnew_df, internetnew_df, on=['Country', 'Year'], how='outer')"
   ]
  },
  {
   "cell_type": "code",
   "execution_count": 23,
   "id": "48beb919",
   "metadata": {},
   "outputs": [
    {
     "data": {
      "text/plain": [
       "Country                object\n",
       "Year                    int64\n",
       "GDP_Per_Capita        float64\n",
       "Internet_Users_Pct    float64\n",
       "dtype: object"
      ]
     },
     "execution_count": 23,
     "metadata": {},
     "output_type": "execute_result"
    }
   ],
   "source": [
    "gdp_and_internet_use.dtypes"
   ]
  },
  {
   "cell_type": "code",
   "execution_count": 24,
   "id": "6274c310",
   "metadata": {},
   "outputs": [
    {
     "data": {
      "text/plain": [
       "(7905, 4)"
      ]
     },
     "execution_count": 24,
     "metadata": {},
     "output_type": "execute_result"
    }
   ],
   "source": [
    "gdp_and_internet_use.shape"
   ]
  },
  {
   "cell_type": "markdown",
   "id": "ccd2aa68",
   "metadata": {},
   "source": [
    "#11"
   ]
  },
  {
   "cell_type": "code",
   "execution_count": 25,
   "id": "9c1842c9",
   "metadata": {},
   "outputs": [
    {
     "name": "stdout",
     "output_type": "stream",
     "text": [
      "       Country  Year  GDP_Per_Capita  Internet_Users_Pct\n",
      "0  Afghanistan  2019     2065.036398                 NaN\n",
      "1  Afghanistan  2018     2033.779002                 NaN\n",
      "2  Afghanistan  2017     2058.383832                 NaN\n",
      "3  Afghanistan  2016     2057.062164                 NaN\n",
      "4  Afghanistan  2015     2068.265904                 NaN\n"
     ]
    }
   ],
   "source": [
    "print((gdp_and_internet_use[0:5]))"
   ]
  },
  {
   "cell_type": "markdown",
   "id": "6a39709e",
   "metadata": {},
   "source": [
    "#12"
   ]
  },
  {
   "cell_type": "code",
   "execution_count": 26,
   "id": "3ea86224",
   "metadata": {},
   "outputs": [
    {
     "data": {
      "text/html": [
       "<div>\n",
       "<style scoped>\n",
       "    .dataframe tbody tr th:only-of-type {\n",
       "        vertical-align: middle;\n",
       "    }\n",
       "\n",
       "    .dataframe tbody tr th {\n",
       "        vertical-align: top;\n",
       "    }\n",
       "\n",
       "    .dataframe thead th {\n",
       "        text-align: right;\n",
       "    }\n",
       "</style>\n",
       "<table border=\"1\" class=\"dataframe\">\n",
       "  <thead>\n",
       "    <tr style=\"text-align: right;\">\n",
       "      <th></th>\n",
       "      <th>Country</th>\n",
       "      <th>Year</th>\n",
       "      <th>GDP_Per_Capita</th>\n",
       "      <th>Internet_Users_Pct</th>\n",
       "    </tr>\n",
       "  </thead>\n",
       "  <tbody>\n",
       "    <tr>\n",
       "      <th>7900</th>\n",
       "      <td>Yemen</td>\n",
       "      <td>1999</td>\n",
       "      <td>NaN</td>\n",
       "      <td>0.056629</td>\n",
       "    </tr>\n",
       "    <tr>\n",
       "      <th>7901</th>\n",
       "      <td>Yemen</td>\n",
       "      <td>1998</td>\n",
       "      <td>NaN</td>\n",
       "      <td>0.023323</td>\n",
       "    </tr>\n",
       "    <tr>\n",
       "      <th>7902</th>\n",
       "      <td>Yemen</td>\n",
       "      <td>1997</td>\n",
       "      <td>NaN</td>\n",
       "      <td>0.015025</td>\n",
       "    </tr>\n",
       "    <tr>\n",
       "      <th>7903</th>\n",
       "      <td>Yemen</td>\n",
       "      <td>1996</td>\n",
       "      <td>NaN</td>\n",
       "      <td>0.000621</td>\n",
       "    </tr>\n",
       "    <tr>\n",
       "      <th>7904</th>\n",
       "      <td>Yemen</td>\n",
       "      <td>1990</td>\n",
       "      <td>NaN</td>\n",
       "      <td>0.000000</td>\n",
       "    </tr>\n",
       "  </tbody>\n",
       "</table>\n",
       "</div>"
      ],
      "text/plain": [
       "     Country  Year  GDP_Per_Capita  Internet_Users_Pct\n",
       "7900   Yemen  1999             NaN            0.056629\n",
       "7901   Yemen  1998             NaN            0.023323\n",
       "7902   Yemen  1997             NaN            0.015025\n",
       "7903   Yemen  1996             NaN            0.000621\n",
       "7904   Yemen  1990             NaN            0.000000"
      ]
     },
     "execution_count": 26,
     "metadata": {},
     "output_type": "execute_result"
    }
   ],
   "source": [
    "gdp_and_internet_use.tail(5)"
   ]
  },
  {
   "cell_type": "code",
   "execution_count": 27,
   "id": "66f4df1e",
   "metadata": {},
   "outputs": [],
   "source": [
    "#sorting data"
   ]
  },
  {
   "cell_type": "code",
   "execution_count": 28,
   "id": "7ab9cbda",
   "metadata": {},
   "outputs": [],
   "source": [
    "gdp_and_internet_use.sort_values(by = ['Country', 'Year'], axis=0, ascending=[True, True], inplace=True,\n",
    "               kind='quicksort', na_position='first', ignore_index=True, key=None)"
   ]
  },
  {
   "cell_type": "code",
   "execution_count": 29,
   "id": "14d2ece9",
   "metadata": {},
   "outputs": [
    {
     "name": "stdout",
     "output_type": "stream",
     "text": [
      "       Country  Year  GDP_Per_Capita  Internet_Users_Pct\n",
      "0  Afghanistan  1990             NaN            0.000000\n",
      "1  Afghanistan  2001             NaN            0.004723\n",
      "2  Afghanistan  2002     1189.784878            0.004561\n",
      "3  Afghanistan  2003     1235.810063            0.087891\n",
      "4  Afghanistan  2004     1200.278256            0.105809\n"
     ]
    }
   ],
   "source": [
    "print((gdp_and_internet_use[0:5]))"
   ]
  },
  {
   "cell_type": "code",
   "execution_count": 30,
   "id": "a24ac8d2",
   "metadata": {},
   "outputs": [
    {
     "data": {
      "text/html": [
       "<div>\n",
       "<style scoped>\n",
       "    .dataframe tbody tr th:only-of-type {\n",
       "        vertical-align: middle;\n",
       "    }\n",
       "\n",
       "    .dataframe tbody tr th {\n",
       "        vertical-align: top;\n",
       "    }\n",
       "\n",
       "    .dataframe thead th {\n",
       "        text-align: right;\n",
       "    }\n",
       "</style>\n",
       "<table border=\"1\" class=\"dataframe\">\n",
       "  <thead>\n",
       "    <tr style=\"text-align: right;\">\n",
       "      <th></th>\n",
       "      <th>Country</th>\n",
       "      <th>Year</th>\n",
       "      <th>GDP_Per_Capita</th>\n",
       "      <th>Internet_Users_Pct</th>\n",
       "    </tr>\n",
       "  </thead>\n",
       "  <tbody>\n",
       "    <tr>\n",
       "      <th>7900</th>\n",
       "      <td>Zimbabwe</td>\n",
       "      <td>2015</td>\n",
       "      <td>2958.209004</td>\n",
       "      <td>NaN</td>\n",
       "    </tr>\n",
       "    <tr>\n",
       "      <th>7901</th>\n",
       "      <td>Zimbabwe</td>\n",
       "      <td>2016</td>\n",
       "      <td>2934.733650</td>\n",
       "      <td>NaN</td>\n",
       "    </tr>\n",
       "    <tr>\n",
       "      <th>7902</th>\n",
       "      <td>Zimbabwe</td>\n",
       "      <td>2017</td>\n",
       "      <td>3028.245976</td>\n",
       "      <td>NaN</td>\n",
       "    </tr>\n",
       "    <tr>\n",
       "      <th>7903</th>\n",
       "      <td>Zimbabwe</td>\n",
       "      <td>2018</td>\n",
       "      <td>3130.029501</td>\n",
       "      <td>NaN</td>\n",
       "    </tr>\n",
       "    <tr>\n",
       "      <th>7904</th>\n",
       "      <td>Zimbabwe</td>\n",
       "      <td>2019</td>\n",
       "      <td>2835.948532</td>\n",
       "      <td>NaN</td>\n",
       "    </tr>\n",
       "  </tbody>\n",
       "</table>\n",
       "</div>"
      ],
      "text/plain": [
       "       Country  Year  GDP_Per_Capita  Internet_Users_Pct\n",
       "7900  Zimbabwe  2015     2958.209004                 NaN\n",
       "7901  Zimbabwe  2016     2934.733650                 NaN\n",
       "7902  Zimbabwe  2017     3028.245976                 NaN\n",
       "7903  Zimbabwe  2018     3130.029501                 NaN\n",
       "7904  Zimbabwe  2019     2835.948532                 NaN"
      ]
     },
     "execution_count": 30,
     "metadata": {},
     "output_type": "execute_result"
    }
   ],
   "source": [
    "gdp_and_internet_use.tail(5)"
   ]
  },
  {
   "cell_type": "markdown",
   "id": "d15b59b5",
   "metadata": {},
   "source": [
    "#13"
   ]
  },
  {
   "cell_type": "code",
   "execution_count": 31,
   "id": "538d7e04",
   "metadata": {},
   "outputs": [],
   "source": [
    "year_subset = gdp_and_internet_use[(gdp_and_internet_use[\"Year\"]==2004) | (gdp_and_internet_use[\"Year\"]==2009) | (gdp_and_internet_use[\"Year\"]==2014)]"
   ]
  },
  {
   "cell_type": "code",
   "execution_count": 32,
   "id": "48612044",
   "metadata": {},
   "outputs": [
    {
     "data": {
      "text/html": [
       "<div>\n",
       "<style scoped>\n",
       "    .dataframe tbody tr th:only-of-type {\n",
       "        vertical-align: middle;\n",
       "    }\n",
       "\n",
       "    .dataframe tbody tr th {\n",
       "        vertical-align: top;\n",
       "    }\n",
       "\n",
       "    .dataframe thead th {\n",
       "        text-align: right;\n",
       "    }\n",
       "</style>\n",
       "<table border=\"1\" class=\"dataframe\">\n",
       "  <thead>\n",
       "    <tr style=\"text-align: right;\">\n",
       "      <th></th>\n",
       "      <th>Country</th>\n",
       "      <th>Year</th>\n",
       "      <th>GDP_Per_Capita</th>\n",
       "      <th>Internet_Users_Pct</th>\n",
       "    </tr>\n",
       "  </thead>\n",
       "  <tbody>\n",
       "    <tr>\n",
       "      <th>4</th>\n",
       "      <td>Afghanistan</td>\n",
       "      <td>2004</td>\n",
       "      <td>1200.278256</td>\n",
       "      <td>0.105809</td>\n",
       "    </tr>\n",
       "    <tr>\n",
       "      <th>9</th>\n",
       "      <td>Afghanistan</td>\n",
       "      <td>2009</td>\n",
       "      <td>1758.904043</td>\n",
       "      <td>3.550000</td>\n",
       "    </tr>\n",
       "    <tr>\n",
       "      <th>14</th>\n",
       "      <td>Afghanistan</td>\n",
       "      <td>2014</td>\n",
       "      <td>2102.385234</td>\n",
       "      <td>6.390000</td>\n",
       "    </tr>\n",
       "    <tr>\n",
       "      <th>34</th>\n",
       "      <td>Albania</td>\n",
       "      <td>2004</td>\n",
       "      <td>7604.838002</td>\n",
       "      <td>2.420388</td>\n",
       "    </tr>\n",
       "    <tr>\n",
       "      <th>39</th>\n",
       "      <td>Albania</td>\n",
       "      <td>2009</td>\n",
       "      <td>10346.864199</td>\n",
       "      <td>41.200000</td>\n",
       "    </tr>\n",
       "  </tbody>\n",
       "</table>\n",
       "</div>"
      ],
      "text/plain": [
       "        Country  Year  GDP_Per_Capita  Internet_Users_Pct\n",
       "4   Afghanistan  2004     1200.278256            0.105809\n",
       "9   Afghanistan  2009     1758.904043            3.550000\n",
       "14  Afghanistan  2014     2102.385234            6.390000\n",
       "34      Albania  2004     7604.838002            2.420388\n",
       "39      Albania  2009    10346.864199           41.200000"
      ]
     },
     "execution_count": 32,
     "metadata": {},
     "output_type": "execute_result"
    }
   ],
   "source": [
    "year_subset.head(5)"
   ]
  },
  {
   "cell_type": "markdown",
   "id": "cb753e03",
   "metadata": {},
   "source": [
    "#14"
   ]
  },
  {
   "cell_type": "code",
   "execution_count": 33,
   "id": "56e41311",
   "metadata": {},
   "outputs": [],
   "source": [
    "gdp_web_2004 = year_subset[(year_subset[\"Year\"]==2004)]"
   ]
  },
  {
   "cell_type": "code",
   "execution_count": 34,
   "id": "9e25f97d",
   "metadata": {},
   "outputs": [
    {
     "data": {
      "text/html": [
       "<div>\n",
       "<style scoped>\n",
       "    .dataframe tbody tr th:only-of-type {\n",
       "        vertical-align: middle;\n",
       "    }\n",
       "\n",
       "    .dataframe tbody tr th {\n",
       "        vertical-align: top;\n",
       "    }\n",
       "\n",
       "    .dataframe thead th {\n",
       "        text-align: right;\n",
       "    }\n",
       "</style>\n",
       "<table border=\"1\" class=\"dataframe\">\n",
       "  <thead>\n",
       "    <tr style=\"text-align: right;\">\n",
       "      <th></th>\n",
       "      <th>Country</th>\n",
       "      <th>Year</th>\n",
       "      <th>GDP_Per_Capita</th>\n",
       "      <th>Internet_Users_Pct</th>\n",
       "    </tr>\n",
       "  </thead>\n",
       "  <tbody>\n",
       "    <tr>\n",
       "      <th>4</th>\n",
       "      <td>Afghanistan</td>\n",
       "      <td>2004</td>\n",
       "      <td>1200.278256</td>\n",
       "      <td>0.105809</td>\n",
       "    </tr>\n",
       "    <tr>\n",
       "      <th>34</th>\n",
       "      <td>Albania</td>\n",
       "      <td>2004</td>\n",
       "      <td>7604.838002</td>\n",
       "      <td>2.420388</td>\n",
       "    </tr>\n",
       "    <tr>\n",
       "      <th>64</th>\n",
       "      <td>Algeria</td>\n",
       "      <td>2004</td>\n",
       "      <td>10058.435939</td>\n",
       "      <td>4.634475</td>\n",
       "    </tr>\n",
       "    <tr>\n",
       "      <th>89</th>\n",
       "      <td>Andorra</td>\n",
       "      <td>2004</td>\n",
       "      <td>NaN</td>\n",
       "      <td>26.837954</td>\n",
       "    </tr>\n",
       "    <tr>\n",
       "      <th>114</th>\n",
       "      <td>Angola</td>\n",
       "      <td>2004</td>\n",
       "      <td>5593.241537</td>\n",
       "      <td>0.464815</td>\n",
       "    </tr>\n",
       "  </tbody>\n",
       "</table>\n",
       "</div>"
      ],
      "text/plain": [
       "         Country  Year  GDP_Per_Capita  Internet_Users_Pct\n",
       "4    Afghanistan  2004     1200.278256            0.105809\n",
       "34       Albania  2004     7604.838002            2.420388\n",
       "64       Algeria  2004    10058.435939            4.634475\n",
       "89       Andorra  2004             NaN           26.837954\n",
       "114       Angola  2004     5593.241537            0.464815"
      ]
     },
     "execution_count": 34,
     "metadata": {},
     "output_type": "execute_result"
    }
   ],
   "source": [
    "gdp_web_2004.head(5)"
   ]
  },
  {
   "cell_type": "code",
   "execution_count": 35,
   "id": "bb675882",
   "metadata": {},
   "outputs": [],
   "source": [
    "gdp_web_2009 = year_subset[(year_subset[\"Year\"]==2009)]"
   ]
  },
  {
   "cell_type": "code",
   "execution_count": 36,
   "id": "fd45d505",
   "metadata": {},
   "outputs": [
    {
     "data": {
      "text/html": [
       "<div>\n",
       "<style scoped>\n",
       "    .dataframe tbody tr th:only-of-type {\n",
       "        vertical-align: middle;\n",
       "    }\n",
       "\n",
       "    .dataframe tbody tr th {\n",
       "        vertical-align: top;\n",
       "    }\n",
       "\n",
       "    .dataframe thead th {\n",
       "        text-align: right;\n",
       "    }\n",
       "</style>\n",
       "<table border=\"1\" class=\"dataframe\">\n",
       "  <thead>\n",
       "    <tr style=\"text-align: right;\">\n",
       "      <th></th>\n",
       "      <th>Country</th>\n",
       "      <th>Year</th>\n",
       "      <th>GDP_Per_Capita</th>\n",
       "      <th>Internet_Users_Pct</th>\n",
       "    </tr>\n",
       "  </thead>\n",
       "  <tbody>\n",
       "    <tr>\n",
       "      <th>9</th>\n",
       "      <td>Afghanistan</td>\n",
       "      <td>2009</td>\n",
       "      <td>1758.904043</td>\n",
       "      <td>3.55</td>\n",
       "    </tr>\n",
       "    <tr>\n",
       "      <th>39</th>\n",
       "      <td>Albania</td>\n",
       "      <td>2009</td>\n",
       "      <td>10346.864199</td>\n",
       "      <td>41.20</td>\n",
       "    </tr>\n",
       "    <tr>\n",
       "      <th>69</th>\n",
       "      <td>Algeria</td>\n",
       "      <td>2009</td>\n",
       "      <td>10782.361398</td>\n",
       "      <td>11.23</td>\n",
       "    </tr>\n",
       "    <tr>\n",
       "      <th>94</th>\n",
       "      <td>Andorra</td>\n",
       "      <td>2009</td>\n",
       "      <td>NaN</td>\n",
       "      <td>78.53</td>\n",
       "    </tr>\n",
       "    <tr>\n",
       "      <th>119</th>\n",
       "      <td>Angola</td>\n",
       "      <td>2009</td>\n",
       "      <td>7643.493749</td>\n",
       "      <td>6.00</td>\n",
       "    </tr>\n",
       "  </tbody>\n",
       "</table>\n",
       "</div>"
      ],
      "text/plain": [
       "         Country  Year  GDP_Per_Capita  Internet_Users_Pct\n",
       "9    Afghanistan  2009     1758.904043                3.55\n",
       "39       Albania  2009    10346.864199               41.20\n",
       "69       Algeria  2009    10782.361398               11.23\n",
       "94       Andorra  2009             NaN               78.53\n",
       "119       Angola  2009     7643.493749                6.00"
      ]
     },
     "execution_count": 36,
     "metadata": {},
     "output_type": "execute_result"
    }
   ],
   "source": [
    "gdp_web_2009.head(5)"
   ]
  },
  {
   "cell_type": "code",
   "execution_count": 37,
   "id": "ce270a0b",
   "metadata": {},
   "outputs": [],
   "source": [
    "gdp_web_2014 = year_subset[(year_subset[\"Year\"]==2014)]"
   ]
  },
  {
   "cell_type": "code",
   "execution_count": 38,
   "id": "e07ccde7",
   "metadata": {},
   "outputs": [
    {
     "data": {
      "text/html": [
       "<div>\n",
       "<style scoped>\n",
       "    .dataframe tbody tr th:only-of-type {\n",
       "        vertical-align: middle;\n",
       "    }\n",
       "\n",
       "    .dataframe tbody tr th {\n",
       "        vertical-align: top;\n",
       "    }\n",
       "\n",
       "    .dataframe thead th {\n",
       "        text-align: right;\n",
       "    }\n",
       "</style>\n",
       "<table border=\"1\" class=\"dataframe\">\n",
       "  <thead>\n",
       "    <tr style=\"text-align: right;\">\n",
       "      <th></th>\n",
       "      <th>Country</th>\n",
       "      <th>Year</th>\n",
       "      <th>GDP_Per_Capita</th>\n",
       "      <th>Internet_Users_Pct</th>\n",
       "    </tr>\n",
       "  </thead>\n",
       "  <tbody>\n",
       "    <tr>\n",
       "      <th>14</th>\n",
       "      <td>Afghanistan</td>\n",
       "      <td>2014</td>\n",
       "      <td>2102.385234</td>\n",
       "      <td>6.39</td>\n",
       "    </tr>\n",
       "    <tr>\n",
       "      <th>44</th>\n",
       "      <td>Albania</td>\n",
       "      <td>2014</td>\n",
       "      <td>11623.866679</td>\n",
       "      <td>60.10</td>\n",
       "    </tr>\n",
       "    <tr>\n",
       "      <th>74</th>\n",
       "      <td>Algeria</td>\n",
       "      <td>2014</td>\n",
       "      <td>11512.705405</td>\n",
       "      <td>18.09</td>\n",
       "    </tr>\n",
       "    <tr>\n",
       "      <th>99</th>\n",
       "      <td>Andorra</td>\n",
       "      <td>2014</td>\n",
       "      <td>NaN</td>\n",
       "      <td>95.90</td>\n",
       "    </tr>\n",
       "    <tr>\n",
       "      <th>124</th>\n",
       "      <td>Angola</td>\n",
       "      <td>2014</td>\n",
       "      <td>8239.828837</td>\n",
       "      <td>21.26</td>\n",
       "    </tr>\n",
       "  </tbody>\n",
       "</table>\n",
       "</div>"
      ],
      "text/plain": [
       "         Country  Year  GDP_Per_Capita  Internet_Users_Pct\n",
       "14   Afghanistan  2014     2102.385234                6.39\n",
       "44       Albania  2014    11623.866679               60.10\n",
       "74       Algeria  2014    11512.705405               18.09\n",
       "99       Andorra  2014             NaN               95.90\n",
       "124       Angola  2014     8239.828837               21.26"
      ]
     },
     "execution_count": 38,
     "metadata": {},
     "output_type": "execute_result"
    }
   ],
   "source": [
    "gdp_web_2014.head(5)"
   ]
  },
  {
   "cell_type": "markdown",
   "id": "b729ff75",
   "metadata": {},
   "source": [
    "#15 Which country had the highest percentage of internet users in 2014? What was the percentage?"
   ]
  },
  {
   "cell_type": "code",
   "execution_count": 39,
   "id": "67281ac6",
   "metadata": {},
   "outputs": [],
   "source": [
    "#Array not needed as Pandas is a tablature version of Python array ... using Dataframe"
   ]
  },
  {
   "cell_type": "code",
   "execution_count": 40,
   "id": "fd9a3a84",
   "metadata": {},
   "outputs": [],
   "source": [
    "#gdp_web_2014a = np.array(gdp_web_2014)"
   ]
  },
  {
   "cell_type": "code",
   "execution_count": 41,
   "id": "da314a8e",
   "metadata": {},
   "outputs": [],
   "source": [
    "#max_pct = np.nanmax(gdp_web_2014a[:,3])"
   ]
  },
  {
   "cell_type": "code",
   "execution_count": 42,
   "id": "9f689807",
   "metadata": {},
   "outputs": [
    {
     "name": "stdout",
     "output_type": "stream",
     "text": [
      "98.16\n"
     ]
    }
   ],
   "source": [
    "print(gdp_web_2014['Internet_Users_Pct'].max())"
   ]
  },
  {
   "cell_type": "code",
   "execution_count": 44,
   "id": "5ff2898f",
   "metadata": {},
   "outputs": [],
   "source": [
    "#Finding Index of max value"
   ]
  },
  {
   "cell_type": "code",
   "execution_count": null,
   "id": "615ea4d5",
   "metadata": {},
   "outputs": [],
   "source": [
    "# np.argmax(gdp_web_2014a[:,3]) for an array"
   ]
  },
  {
   "cell_type": "code",
   "execution_count": 60,
   "id": "5078abe8",
   "metadata": {},
   "outputs": [
    {
     "name": "stdout",
     "output_type": "stream",
     "text": [
      "3249\n"
     ]
    }
   ],
   "source": [
    "print(gdp_web_2014.iloc[:, 3].dropna().idxmax())"
   ]
  },
  {
   "cell_type": "code",
   "execution_count": 64,
   "id": "9c327ff4",
   "metadata": {},
   "outputs": [
    {
     "data": {
      "text/plain": [
       "Country                  Iceland\n",
       "Year                        2014\n",
       "GDP_Per_Capita        49652.1495\n",
       "Internet_Users_Pct         98.16\n",
       "Name: 3249, dtype: object"
      ]
     },
     "execution_count": 64,
     "metadata": {},
     "output_type": "execute_result"
    }
   ],
   "source": [
    "gdp_web_2014.loc[3249]"
   ]
  },
  {
   "cell_type": "code",
   "execution_count": null,
   "id": "aa29830c",
   "metadata": {},
   "outputs": [],
   "source": [
    "# gdp_web_2014a[3249:3250,:] for an array"
   ]
  },
  {
   "cell_type": "markdown",
   "id": "8a87659a",
   "metadata": {},
   "source": [
    "#####    iloc[ ] is used to select rows/ columns by their corresponding labels.\n",
    "#####    loc[ ] is used to select rows/columns by their indices.\n",
    "#####   [ ] is used to select columns by their respective names."
   ]
  },
  {
   "cell_type": "markdown",
   "id": "6c4e2b40",
   "metadata": {},
   "source": [
    "#16 Which country had the lowest percentage of internet users in 2014? What was the percentage?"
   ]
  },
  {
   "cell_type": "code",
   "execution_count": 65,
   "id": "75c60c74",
   "metadata": {},
   "outputs": [
    {
     "name": "stdout",
     "output_type": "stream",
     "text": [
      "0.0\n"
     ]
    }
   ],
   "source": [
    "print(gdp_web_2014['Internet_Users_Pct'].min())"
   ]
  },
  {
   "cell_type": "code",
   "execution_count": 67,
   "id": "bf4f2f5a",
   "metadata": {},
   "outputs": [
    {
     "name": "stdout",
     "output_type": "stream",
     "text": [
      "1645\n"
     ]
    }
   ],
   "source": [
    "print(gdp_web_2014.iloc[:, 3].dropna().idxmin())"
   ]
  },
  {
   "cell_type": "code",
   "execution_count": 71,
   "id": "3308e735",
   "metadata": {},
   "outputs": [
    {
     "data": {
      "text/plain": [
       "Country               Dem. People's Rep. of Korea\n",
       "Year                                         2014\n",
       "GDP_Per_Capita                                NaN\n",
       "Internet_Users_Pct                            0.0\n",
       "Name: 1645, dtype: object"
      ]
     },
     "execution_count": 71,
     "metadata": {},
     "output_type": "execute_result"
    }
   ],
   "source": [
    "gdp_web_2014.loc[gdp_web_2014.iloc[:, 3].dropna().idxmin()]"
   ]
  },
  {
   "cell_type": "code",
   "execution_count": null,
   "id": "2bb5becb",
   "metadata": {},
   "outputs": [],
   "source": [
    "#What if there is more than one country with 0.0?"
   ]
  },
  {
   "cell_type": "markdown",
   "id": "9ddef003",
   "metadata": {},
   "source": [
    "#17 Repeat for 2004 and 2009"
   ]
  },
  {
   "cell_type": "code",
   "execution_count": 93,
   "id": "de3d0a4f",
   "metadata": {},
   "outputs": [
    {
     "name": "stdout",
     "output_type": "stream",
     "text": [
      "0.0\n"
     ]
    }
   ],
   "source": [
    "print(gdp_web_2004.iloc[:, 3].dropna().min())"
   ]
  },
  {
   "cell_type": "code",
   "execution_count": 92,
   "id": "1a77f059",
   "metadata": {},
   "outputs": [
    {
     "name": "stdout",
     "output_type": "stream",
     "text": [
      "83.89\n"
     ]
    }
   ],
   "source": [
    "print(gdp_web_2004.iloc[:, 3].dropna().max())"
   ]
  },
  {
   "cell_type": "markdown",
   "id": "4a9496b5",
   "metadata": {},
   "source": [
    "##### index inside of loc command"
   ]
  },
  {
   "cell_type": "code",
   "execution_count": 100,
   "id": "77f7ae9c",
   "metadata": {},
   "outputs": [],
   "source": [
    "#gdp_web_2004.loc[gdp_web_2004.iloc[:, 3].dropna().idxmin()]"
   ]
  },
  {
   "cell_type": "code",
   "execution_count": 99,
   "id": "278e0134",
   "metadata": {},
   "outputs": [],
   "source": [
    "#gdp_web_2004.loc[gdp_web_2004.iloc[:, 3].dropna().idxmax()]"
   ]
  },
  {
   "cell_type": "code",
   "execution_count": 98,
   "id": "5246cc4e",
   "metadata": {},
   "outputs": [
    {
     "name": "stdout",
     "output_type": "stream",
     "text": [
      "Country               Dem. People's Rep. of Korea\n",
      "Year                                         2004\n",
      "GDP_Per_Capita                                NaN\n",
      "Internet_Users_Pct                            0.0\n",
      "Name: 1636, dtype: object \n",
      "\n",
      "Country                     Sweden\n",
      "Year                          2004\n",
      "GDP_Per_Capita        44496.023401\n",
      "Internet_Users_Pct           83.89\n",
      "Name: 6849, dtype: object\n"
     ]
    }
   ],
   "source": [
    "print(gdp_web_2004.loc[gdp_web_2004.iloc[:, 3].dropna().idxmin()],\"\\n\"),\n",
    "print(gdp_web_2004.loc[gdp_web_2004.iloc[:, 3].dropna().idxmax()])"
   ]
  },
  {
   "cell_type": "code",
   "execution_count": 101,
   "id": "1b350b2d",
   "metadata": {},
   "outputs": [
    {
     "name": "stdout",
     "output_type": "stream",
     "text": [
      "Country               Dem. People's Rep. of Korea\n",
      "Year                                         2009\n",
      "GDP_Per_Capita                                NaN\n",
      "Internet_Users_Pct                            0.0\n",
      "Name: 1641, dtype: object \n",
      "\n",
      "Country                    Iceland\n",
      "Year                          2009\n",
      "GDP_Per_Capita        48177.084123\n",
      "Internet_Users_Pct            93.0\n",
      "Name: 3244, dtype: object\n"
     ]
    }
   ],
   "source": [
    "print(gdp_web_2009.loc[gdp_web_2009.iloc[:, 3].dropna().idxmin()],\"\\n\"),\n",
    "print(gdp_web_2009.loc[gdp_web_2009.iloc[:, 3].dropna().idxmax()])"
   ]
  },
  {
   "cell_type": "code",
   "execution_count": 102,
   "id": "26972986",
   "metadata": {},
   "outputs": [
    {
     "name": "stdout",
     "output_type": "stream",
     "text": [
      "Country               Dem. People's Rep. of Korea\n",
      "Year                                         2014\n",
      "GDP_Per_Capita                                NaN\n",
      "Internet_Users_Pct                            0.0\n",
      "Name: 1645, dtype: object \n",
      "\n",
      "Country                  Iceland\n",
      "Year                        2014\n",
      "GDP_Per_Capita        49652.1495\n",
      "Internet_Users_Pct         98.16\n",
      "Name: 3249, dtype: object\n"
     ]
    }
   ],
   "source": [
    "print(gdp_web_2014.loc[gdp_web_2014.iloc[:, 3].dropna().idxmin()],\"\\n\"),\n",
    "print(gdp_web_2014.loc[gdp_web_2014.iloc[:, 3].dropna().idxmax()])"
   ]
  },
  {
   "cell_type": "markdown",
   "id": "70792f08",
   "metadata": {},
   "source": [
    "#18 & 19? Which country had the highest gdp per capita in 2014? What was the gdp per capita?"
   ]
  },
  {
   "cell_type": "code",
   "execution_count": 103,
   "id": "57eac5f3",
   "metadata": {},
   "outputs": [
    {
     "name": "stdout",
     "output_type": "stream",
     "text": [
      "Country               Macao SAR, China\n",
      "Year                              2014\n",
      "GDP_Per_Capita            156514.13385\n",
      "Internet_Users_Pct                 NaN\n",
      "Name: 4349, dtype: object\n"
     ]
    }
   ],
   "source": [
    "print(gdp_web_2014.loc[gdp_web_2014.iloc[:, 2].dropna().idxmax()])"
   ]
  },
  {
   "cell_type": "markdown",
   "id": "41cc2e3c",
   "metadata": {},
   "source": [
    "#20 Which country had the lowest gdp per capita in 2014? What was the gdp per capita?"
   ]
  },
  {
   "cell_type": "code",
   "execution_count": 106,
   "id": "8d9a6df8",
   "metadata": {},
   "outputs": [
    {
     "name": "stdout",
     "output_type": "stream",
     "text": [
      "Country               Central African Republic\n",
      "Year                                      2014\n",
      "GDP_Per_Capita                      822.610458\n",
      "Internet_Users_Pct                         NaN\n",
      "Name: 1182, dtype: object\n"
     ]
    }
   ],
   "source": [
    "print(gdp_web_2014.loc[gdp_web_2014.iloc[:, 2].dropna().idxmin()])"
   ]
  },
  {
   "cell_type": "markdown",
   "id": "308c6416",
   "metadata": {},
   "source": [
    "#21.\tCreate some scatterplots:  \n",
    "    a.  2004 Percent Using the Internet vs GDP Per Capita  \n",
    "    b.\t2009 Percent Using the Internet vs GDP Per Capita  \n",
    "    c.\t2014 Percent Using the Internet vs GDP Per Capita  "
   ]
  },
  {
   "cell_type": "code",
   "execution_count": 107,
   "id": "257f34e0",
   "metadata": {},
   "outputs": [
    {
     "data": {
      "text/html": [
       "<div>\n",
       "<style scoped>\n",
       "    .dataframe tbody tr th:only-of-type {\n",
       "        vertical-align: middle;\n",
       "    }\n",
       "\n",
       "    .dataframe tbody tr th {\n",
       "        vertical-align: top;\n",
       "    }\n",
       "\n",
       "    .dataframe thead th {\n",
       "        text-align: right;\n",
       "    }\n",
       "</style>\n",
       "<table border=\"1\" class=\"dataframe\">\n",
       "  <thead>\n",
       "    <tr style=\"text-align: right;\">\n",
       "      <th></th>\n",
       "      <th>Country</th>\n",
       "      <th>Year</th>\n",
       "      <th>GDP_Per_Capita</th>\n",
       "      <th>Internet_Users_Pct</th>\n",
       "    </tr>\n",
       "  </thead>\n",
       "  <tbody>\n",
       "    <tr>\n",
       "      <th>4</th>\n",
       "      <td>Afghanistan</td>\n",
       "      <td>2004</td>\n",
       "      <td>1200.278256</td>\n",
       "      <td>0.105809</td>\n",
       "    </tr>\n",
       "    <tr>\n",
       "      <th>34</th>\n",
       "      <td>Albania</td>\n",
       "      <td>2004</td>\n",
       "      <td>7604.838002</td>\n",
       "      <td>2.420388</td>\n",
       "    </tr>\n",
       "    <tr>\n",
       "      <th>64</th>\n",
       "      <td>Algeria</td>\n",
       "      <td>2004</td>\n",
       "      <td>10058.435939</td>\n",
       "      <td>4.634475</td>\n",
       "    </tr>\n",
       "    <tr>\n",
       "      <th>89</th>\n",
       "      <td>Andorra</td>\n",
       "      <td>2004</td>\n",
       "      <td>NaN</td>\n",
       "      <td>26.837954</td>\n",
       "    </tr>\n",
       "    <tr>\n",
       "      <th>114</th>\n",
       "      <td>Angola</td>\n",
       "      <td>2004</td>\n",
       "      <td>5593.241537</td>\n",
       "      <td>0.464815</td>\n",
       "    </tr>\n",
       "  </tbody>\n",
       "</table>\n",
       "</div>"
      ],
      "text/plain": [
       "         Country  Year  GDP_Per_Capita  Internet_Users_Pct\n",
       "4    Afghanistan  2004     1200.278256            0.105809\n",
       "34       Albania  2004     7604.838002            2.420388\n",
       "64       Algeria  2004    10058.435939            4.634475\n",
       "89       Andorra  2004             NaN           26.837954\n",
       "114       Angola  2004     5593.241537            0.464815"
      ]
     },
     "execution_count": 107,
     "metadata": {},
     "output_type": "execute_result"
    }
   ],
   "source": [
    "gdp_web_2004.head(5)"
   ]
  },
  {
   "cell_type": "code",
   "execution_count": 108,
   "id": "d703de50",
   "metadata": {},
   "outputs": [
    {
     "data": {
      "text/plain": [
       "<AxesSubplot:xlabel='GDP_Per_Capita', ylabel='Internet_Users_Pct'>"
      ]
     },
     "execution_count": 108,
     "metadata": {},
     "output_type": "execute_result"
    },
    {
     "data": {
      "image/png": "[encoded data removed]",
      "text/plain": [
       "<Figure size 432x288 with 1 Axes>"
      ]
     },
     "metadata": {
      "needs_background": "light"
     },
     "output_type": "display_data"
    }
   ],
   "source": [
    "gdp_web_2004.plot.scatter(x = 'GDP_Per_Capita', y = 'Internet_Users_Pct', s = 10)"
   ]
  },
  {
   "cell_type": "code",
   "execution_count": null,
   "id": "b8e795cd",
   "metadata": {},
   "outputs": [],
   "source": []
  }
 ],
 "metadata": {
  "kernelspec": {
   "display_name": "Python 3 (ipykernel)",
   "language": "python",
   "name": "python3"
  },
  "language_info": {
   "codemirror_mode": {
    "name": "ipython",
    "version": 3
   },
   "file_extension": ".py",
   "mimetype": "text/x-python",
   "name": "python",
   "nbconvert_exporter": "python",
   "pygments_lexer": "ipython3",
   "version": "3.9.7"
  }
 },
 "nbformat": 4,
 "nbformat_minor": 5
}
